{
 "cells": [
  {
   "cell_type": "markdown",
   "id": "e03a742f",
   "metadata": {},
   "source": [
    "# Import"
   ]
  },
  {
   "cell_type": "markdown",
   "id": "672d9626",
   "metadata": {},
   "source": [
    "## Module imports"
   ]
  },
  {
   "cell_type": "code",
   "execution_count": 1,
   "id": "373c21e3",
   "metadata": {},
   "outputs": [],
   "source": [
    "import pandas as pd\n",
    "import numpy as np\n",
    "import seaborn as sns\n",
    "import matplotlib.pyplot as plt\n",
    "\n",
    "# Model classifiers\n",
    "from sklearn.svm import SVC\n",
    "from sklearn.linear_model import LogisticRegression\n",
    "from sklearn.ensemble import GradientBoostingClassifier\n",
    "\n",
    "# Cross validation\n",
    "from sklearn.model_selection import cross_validate\n",
    "\n",
    "# Pipeline\n",
    "from sklearn.pipeline import make_pipeline, Pipeline\n",
    "from sklearn.compose import make_column_selector, make_column_transformer, ColumnTransformer\n",
    "from sklearn.preprocessing import StandardScaler, OneHotEncoder\n",
    "from sklearn.model_selection import train_test_split\n",
    "from sklearn.preprocessing import FunctionTransformer\n",
    "\n",
    "# Scoring\n",
    "from sklearn.metrics import accuracy_score, recall_score, f1_score\n",
    "\n",
    "# Addons\n",
    "from sklearn.metrics import confusion_matrix\n",
    "from matplotlib.colors import ListedColormap\n",
    "\n",
    "# Config\n",
    "from sklearn import set_config\n",
    "set_config(display=\"diagram\") # To show our model diagrams "
   ]
  },
  {
   "cell_type": "markdown",
   "id": "93ac156a",
   "metadata": {},
   "source": [
    "## Dataset import"
   ]
  },
  {
   "cell_type": "code",
   "execution_count": 2,
   "id": "83fb47e1",
   "metadata": {},
   "outputs": [],
   "source": [
    "imported_df = pd.read_csv('online_shoppers_intention.csv')\n",
    "df = imported_df"
   ]
  },
  {
   "cell_type": "markdown",
   "id": "b6219f57",
   "metadata": {},
   "source": [
    "# Preprocessing"
   ]
  },
  {
   "cell_type": "code",
   "execution_count": 3,
   "id": "586e40c9",
   "metadata": {},
   "outputs": [
    {
     "data": {
      "text/html": [
       "<div>\n",
       "<style scoped>\n",
       "    .dataframe tbody tr th:only-of-type {\n",
       "        vertical-align: middle;\n",
       "    }\n",
       "\n",
       "    .dataframe tbody tr th {\n",
       "        vertical-align: top;\n",
       "    }\n",
       "\n",
       "    .dataframe thead th {\n",
       "        text-align: right;\n",
       "    }\n",
       "</style>\n",
       "<table border=\"1\" class=\"dataframe\">\n",
       "  <thead>\n",
       "    <tr style=\"text-align: right;\">\n",
       "      <th></th>\n",
       "      <th>Administrative</th>\n",
       "      <th>Administrative_Duration</th>\n",
       "      <th>Informational</th>\n",
       "      <th>Informational_Duration</th>\n",
       "      <th>ProductRelated</th>\n",
       "      <th>ProductRelated_Duration</th>\n",
       "      <th>BounceRates</th>\n",
       "      <th>ExitRates</th>\n",
       "      <th>PageValues</th>\n",
       "      <th>SpecialDay</th>\n",
       "      <th>Month</th>\n",
       "      <th>OperatingSystems</th>\n",
       "      <th>Browser</th>\n",
       "      <th>Region</th>\n",
       "      <th>TrafficType</th>\n",
       "      <th>VisitorType</th>\n",
       "      <th>Weekend</th>\n",
       "      <th>Revenue</th>\n",
       "    </tr>\n",
       "  </thead>\n",
       "  <tbody>\n",
       "    <tr>\n",
       "      <th>0</th>\n",
       "      <td>0</td>\n",
       "      <td>0.0</td>\n",
       "      <td>0</td>\n",
       "      <td>0.0</td>\n",
       "      <td>1</td>\n",
       "      <td>0.000000</td>\n",
       "      <td>0.200000</td>\n",
       "      <td>0.200000</td>\n",
       "      <td>0.000000</td>\n",
       "      <td>0.0</td>\n",
       "      <td>Feb</td>\n",
       "      <td>1</td>\n",
       "      <td>1</td>\n",
       "      <td>1</td>\n",
       "      <td>1</td>\n",
       "      <td>Returning_Visitor</td>\n",
       "      <td>False</td>\n",
       "      <td>False</td>\n",
       "    </tr>\n",
       "    <tr>\n",
       "      <th>1</th>\n",
       "      <td>0</td>\n",
       "      <td>0.0</td>\n",
       "      <td>0</td>\n",
       "      <td>0.0</td>\n",
       "      <td>2</td>\n",
       "      <td>64.000000</td>\n",
       "      <td>0.000000</td>\n",
       "      <td>0.100000</td>\n",
       "      <td>0.000000</td>\n",
       "      <td>0.0</td>\n",
       "      <td>Feb</td>\n",
       "      <td>2</td>\n",
       "      <td>2</td>\n",
       "      <td>1</td>\n",
       "      <td>2</td>\n",
       "      <td>Returning_Visitor</td>\n",
       "      <td>False</td>\n",
       "      <td>False</td>\n",
       "    </tr>\n",
       "    <tr>\n",
       "      <th>2</th>\n",
       "      <td>0</td>\n",
       "      <td>0.0</td>\n",
       "      <td>0</td>\n",
       "      <td>0.0</td>\n",
       "      <td>1</td>\n",
       "      <td>0.000000</td>\n",
       "      <td>0.200000</td>\n",
       "      <td>0.200000</td>\n",
       "      <td>0.000000</td>\n",
       "      <td>0.0</td>\n",
       "      <td>Feb</td>\n",
       "      <td>4</td>\n",
       "      <td>1</td>\n",
       "      <td>9</td>\n",
       "      <td>3</td>\n",
       "      <td>Returning_Visitor</td>\n",
       "      <td>False</td>\n",
       "      <td>False</td>\n",
       "    </tr>\n",
       "    <tr>\n",
       "      <th>3</th>\n",
       "      <td>0</td>\n",
       "      <td>0.0</td>\n",
       "      <td>0</td>\n",
       "      <td>0.0</td>\n",
       "      <td>2</td>\n",
       "      <td>2.666667</td>\n",
       "      <td>0.050000</td>\n",
       "      <td>0.140000</td>\n",
       "      <td>0.000000</td>\n",
       "      <td>0.0</td>\n",
       "      <td>Feb</td>\n",
       "      <td>3</td>\n",
       "      <td>2</td>\n",
       "      <td>2</td>\n",
       "      <td>4</td>\n",
       "      <td>Returning_Visitor</td>\n",
       "      <td>False</td>\n",
       "      <td>False</td>\n",
       "    </tr>\n",
       "    <tr>\n",
       "      <th>4</th>\n",
       "      <td>0</td>\n",
       "      <td>0.0</td>\n",
       "      <td>0</td>\n",
       "      <td>0.0</td>\n",
       "      <td>10</td>\n",
       "      <td>627.500000</td>\n",
       "      <td>0.020000</td>\n",
       "      <td>0.050000</td>\n",
       "      <td>0.000000</td>\n",
       "      <td>0.0</td>\n",
       "      <td>Feb</td>\n",
       "      <td>3</td>\n",
       "      <td>3</td>\n",
       "      <td>1</td>\n",
       "      <td>4</td>\n",
       "      <td>Returning_Visitor</td>\n",
       "      <td>True</td>\n",
       "      <td>False</td>\n",
       "    </tr>\n",
       "    <tr>\n",
       "      <th>...</th>\n",
       "      <td>...</td>\n",
       "      <td>...</td>\n",
       "      <td>...</td>\n",
       "      <td>...</td>\n",
       "      <td>...</td>\n",
       "      <td>...</td>\n",
       "      <td>...</td>\n",
       "      <td>...</td>\n",
       "      <td>...</td>\n",
       "      <td>...</td>\n",
       "      <td>...</td>\n",
       "      <td>...</td>\n",
       "      <td>...</td>\n",
       "      <td>...</td>\n",
       "      <td>...</td>\n",
       "      <td>...</td>\n",
       "      <td>...</td>\n",
       "      <td>...</td>\n",
       "    </tr>\n",
       "    <tr>\n",
       "      <th>12325</th>\n",
       "      <td>3</td>\n",
       "      <td>145.0</td>\n",
       "      <td>0</td>\n",
       "      <td>0.0</td>\n",
       "      <td>53</td>\n",
       "      <td>1783.791667</td>\n",
       "      <td>0.007143</td>\n",
       "      <td>0.029031</td>\n",
       "      <td>12.241717</td>\n",
       "      <td>0.0</td>\n",
       "      <td>Dec</td>\n",
       "      <td>4</td>\n",
       "      <td>6</td>\n",
       "      <td>1</td>\n",
       "      <td>1</td>\n",
       "      <td>Returning_Visitor</td>\n",
       "      <td>True</td>\n",
       "      <td>False</td>\n",
       "    </tr>\n",
       "    <tr>\n",
       "      <th>12326</th>\n",
       "      <td>0</td>\n",
       "      <td>0.0</td>\n",
       "      <td>0</td>\n",
       "      <td>0.0</td>\n",
       "      <td>5</td>\n",
       "      <td>465.750000</td>\n",
       "      <td>0.000000</td>\n",
       "      <td>0.021333</td>\n",
       "      <td>0.000000</td>\n",
       "      <td>0.0</td>\n",
       "      <td>Nov</td>\n",
       "      <td>3</td>\n",
       "      <td>2</td>\n",
       "      <td>1</td>\n",
       "      <td>8</td>\n",
       "      <td>Returning_Visitor</td>\n",
       "      <td>True</td>\n",
       "      <td>False</td>\n",
       "    </tr>\n",
       "    <tr>\n",
       "      <th>12327</th>\n",
       "      <td>0</td>\n",
       "      <td>0.0</td>\n",
       "      <td>0</td>\n",
       "      <td>0.0</td>\n",
       "      <td>6</td>\n",
       "      <td>184.250000</td>\n",
       "      <td>0.083333</td>\n",
       "      <td>0.086667</td>\n",
       "      <td>0.000000</td>\n",
       "      <td>0.0</td>\n",
       "      <td>Nov</td>\n",
       "      <td>3</td>\n",
       "      <td>2</td>\n",
       "      <td>1</td>\n",
       "      <td>13</td>\n",
       "      <td>Returning_Visitor</td>\n",
       "      <td>True</td>\n",
       "      <td>False</td>\n",
       "    </tr>\n",
       "    <tr>\n",
       "      <th>12328</th>\n",
       "      <td>4</td>\n",
       "      <td>75.0</td>\n",
       "      <td>0</td>\n",
       "      <td>0.0</td>\n",
       "      <td>15</td>\n",
       "      <td>346.000000</td>\n",
       "      <td>0.000000</td>\n",
       "      <td>0.021053</td>\n",
       "      <td>0.000000</td>\n",
       "      <td>0.0</td>\n",
       "      <td>Nov</td>\n",
       "      <td>2</td>\n",
       "      <td>2</td>\n",
       "      <td>3</td>\n",
       "      <td>11</td>\n",
       "      <td>Returning_Visitor</td>\n",
       "      <td>False</td>\n",
       "      <td>False</td>\n",
       "    </tr>\n",
       "    <tr>\n",
       "      <th>12329</th>\n",
       "      <td>0</td>\n",
       "      <td>0.0</td>\n",
       "      <td>0</td>\n",
       "      <td>0.0</td>\n",
       "      <td>3</td>\n",
       "      <td>21.250000</td>\n",
       "      <td>0.000000</td>\n",
       "      <td>0.066667</td>\n",
       "      <td>0.000000</td>\n",
       "      <td>0.0</td>\n",
       "      <td>Nov</td>\n",
       "      <td>3</td>\n",
       "      <td>2</td>\n",
       "      <td>1</td>\n",
       "      <td>2</td>\n",
       "      <td>New_Visitor</td>\n",
       "      <td>True</td>\n",
       "      <td>False</td>\n",
       "    </tr>\n",
       "  </tbody>\n",
       "</table>\n",
       "<p>12330 rows × 18 columns</p>\n",
       "</div>"
      ],
      "text/plain": [
       "       Administrative  Administrative_Duration  Informational  \\\n",
       "0                   0                      0.0              0   \n",
       "1                   0                      0.0              0   \n",
       "2                   0                      0.0              0   \n",
       "3                   0                      0.0              0   \n",
       "4                   0                      0.0              0   \n",
       "...               ...                      ...            ...   \n",
       "12325               3                    145.0              0   \n",
       "12326               0                      0.0              0   \n",
       "12327               0                      0.0              0   \n",
       "12328               4                     75.0              0   \n",
       "12329               0                      0.0              0   \n",
       "\n",
       "       Informational_Duration  ProductRelated  ProductRelated_Duration  \\\n",
       "0                         0.0               1                 0.000000   \n",
       "1                         0.0               2                64.000000   \n",
       "2                         0.0               1                 0.000000   \n",
       "3                         0.0               2                 2.666667   \n",
       "4                         0.0              10               627.500000   \n",
       "...                       ...             ...                      ...   \n",
       "12325                     0.0              53              1783.791667   \n",
       "12326                     0.0               5               465.750000   \n",
       "12327                     0.0               6               184.250000   \n",
       "12328                     0.0              15               346.000000   \n",
       "12329                     0.0               3                21.250000   \n",
       "\n",
       "       BounceRates  ExitRates  PageValues  SpecialDay Month  OperatingSystems  \\\n",
       "0         0.200000   0.200000    0.000000         0.0   Feb                 1   \n",
       "1         0.000000   0.100000    0.000000         0.0   Feb                 2   \n",
       "2         0.200000   0.200000    0.000000         0.0   Feb                 4   \n",
       "3         0.050000   0.140000    0.000000         0.0   Feb                 3   \n",
       "4         0.020000   0.050000    0.000000         0.0   Feb                 3   \n",
       "...            ...        ...         ...         ...   ...               ...   \n",
       "12325     0.007143   0.029031   12.241717         0.0   Dec                 4   \n",
       "12326     0.000000   0.021333    0.000000         0.0   Nov                 3   \n",
       "12327     0.083333   0.086667    0.000000         0.0   Nov                 3   \n",
       "12328     0.000000   0.021053    0.000000         0.0   Nov                 2   \n",
       "12329     0.000000   0.066667    0.000000         0.0   Nov                 3   \n",
       "\n",
       "       Browser  Region  TrafficType        VisitorType  Weekend  Revenue  \n",
       "0            1       1            1  Returning_Visitor    False    False  \n",
       "1            2       1            2  Returning_Visitor    False    False  \n",
       "2            1       9            3  Returning_Visitor    False    False  \n",
       "3            2       2            4  Returning_Visitor    False    False  \n",
       "4            3       1            4  Returning_Visitor     True    False  \n",
       "...        ...     ...          ...                ...      ...      ...  \n",
       "12325        6       1            1  Returning_Visitor     True    False  \n",
       "12326        2       1            8  Returning_Visitor     True    False  \n",
       "12327        2       1           13  Returning_Visitor     True    False  \n",
       "12328        2       3           11  Returning_Visitor    False    False  \n",
       "12329        2       1            2        New_Visitor     True    False  \n",
       "\n",
       "[12330 rows x 18 columns]"
      ]
     },
     "execution_count": 3,
     "metadata": {},
     "output_type": "execute_result"
    }
   ],
   "source": [
    "df"
   ]
  },
  {
   "cell_type": "markdown",
   "id": "ade62b9c",
   "metadata": {},
   "source": [
    "## Dtypes"
   ]
  },
  {
   "cell_type": "code",
   "execution_count": 4,
   "id": "662607ba",
   "metadata": {},
   "outputs": [
    {
     "data": {
      "text/plain": [
       "Administrative               int64\n",
       "Administrative_Duration    float64\n",
       "Informational                int64\n",
       "Informational_Duration     float64\n",
       "ProductRelated               int64\n",
       "ProductRelated_Duration    float64\n",
       "BounceRates                float64\n",
       "ExitRates                  float64\n",
       "PageValues                 float64\n",
       "SpecialDay                 float64\n",
       "Month                       object\n",
       "OperatingSystems             int64\n",
       "Browser                      int64\n",
       "Region                       int64\n",
       "TrafficType                  int64\n",
       "VisitorType                 object\n",
       "Weekend                       bool\n",
       "Revenue                       bool\n",
       "dtype: object"
      ]
     },
     "execution_count": 4,
     "metadata": {},
     "output_type": "execute_result"
    }
   ],
   "source": [
    "df.dtypes"
   ]
  },
  {
   "cell_type": "markdown",
   "id": "434a3037",
   "metadata": {},
   "source": [
    "Month and VisitorType aren't correctly typed"
   ]
  },
  {
   "cell_type": "markdown",
   "id": "e7126304",
   "metadata": {},
   "source": [
    "### Month not type correction"
   ]
  },
  {
   "cell_type": "code",
   "execution_count": 5,
   "id": "47affce8",
   "metadata": {},
   "outputs": [
    {
     "data": {
      "text/plain": [
       "May     3364\n",
       "Nov     2998\n",
       "Mar     1907\n",
       "Dec     1727\n",
       "Oct      549\n",
       "Sep      448\n",
       "Aug      433\n",
       "Jul      432\n",
       "June     288\n",
       "Feb      184\n",
       "Name: Month, dtype: int64"
      ]
     },
     "execution_count": 5,
     "metadata": {},
     "output_type": "execute_result"
    }
   ],
   "source": [
    "df.Month.value_counts(dropna=False)"
   ]
  },
  {
   "cell_type": "markdown",
   "id": "506c8efa",
   "metadata": {},
   "source": [
    "Month is in reality a categorical string variable."
   ]
  },
  {
   "cell_type": "code",
   "execution_count": 6,
   "id": "ae43e0c9",
   "metadata": {},
   "outputs": [],
   "source": [
    "df['Month'] = df.Month.astype('category')"
   ]
  },
  {
   "cell_type": "markdown",
   "id": "8b2e3305",
   "metadata": {},
   "source": [
    "### VisitorType"
   ]
  },
  {
   "cell_type": "code",
   "execution_count": 7,
   "id": "83d6ff99",
   "metadata": {},
   "outputs": [
    {
     "data": {
      "text/plain": [
       "Returning_Visitor    10551\n",
       "New_Visitor           1694\n",
       "Other                   85\n",
       "Name: VisitorType, dtype: int64"
      ]
     },
     "execution_count": 7,
     "metadata": {},
     "output_type": "execute_result"
    }
   ],
   "source": [
    "df.VisitorType.value_counts(dropna=False)"
   ]
  },
  {
   "cell_type": "code",
   "execution_count": 8,
   "id": "e27ac27a",
   "metadata": {},
   "outputs": [],
   "source": [
    "df['VisitorType'] = df.VisitorType.astype('category')"
   ]
  },
  {
   "cell_type": "markdown",
   "id": "d9ee6fc1",
   "metadata": {},
   "source": [
    "VisitorType is in reality a categorical string variable."
   ]
  },
  {
   "cell_type": "code",
   "execution_count": 9,
   "id": "3b78ef2f",
   "metadata": {},
   "outputs": [
    {
     "data": {
      "text/plain": [
       "0.0    11079\n",
       "0.6      351\n",
       "0.8      325\n",
       "0.4      243\n",
       "0.2      178\n",
       "1.0      154\n",
       "Name: SpecialDay, dtype: int64"
      ]
     },
     "execution_count": 9,
     "metadata": {},
     "output_type": "execute_result"
    }
   ],
   "source": [
    "df.SpecialDay.value_counts(dropna=False)"
   ]
  },
  {
   "cell_type": "markdown",
   "id": "422cae9a",
   "metadata": {},
   "source": [
    "### Categorical variables"
   ]
  },
  {
   "cell_type": "markdown",
   "id": "ddfd1ca3",
   "metadata": {},
   "source": [
    "Month, OperatingSystems, Browser, Region, TrafficType, VisitorType, Weekend and Revenue are categorical variables."
   ]
  },
  {
   "cell_type": "code",
   "execution_count": 10,
   "id": "5b7b595a",
   "metadata": {},
   "outputs": [
    {
     "data": {
      "text/plain": [
       "Month               category\n",
       "OperatingSystems       int64\n",
       "Browser                int64\n",
       "Region                 int64\n",
       "TrafficType            int64\n",
       "VisitorType         category\n",
       "Weekend                 bool\n",
       "Revenue                 bool\n",
       "dtype: object"
      ]
     },
     "execution_count": 10,
     "metadata": {},
     "output_type": "execute_result"
    }
   ],
   "source": [
    "df.dtypes[10:]"
   ]
  },
  {
   "cell_type": "markdown",
   "id": "ce13b44b",
   "metadata": {},
   "source": [
    "I change dtype of categorical columns taged as int64 beacause int64 type can introduct a bias in the model (int64 have order, categorical not all time ). So OperatingSystems, Browser, Region and TrafficType variable dtype will be change as category."
   ]
  },
  {
   "cell_type": "markdown",
   "id": "880d4806",
   "metadata": {},
   "source": [
    "At other hand boolean is a better type than category type for variables that take only 2 distinct values. So Weekend variable will stay of type bool."
   ]
  },
  {
   "cell_type": "code",
   "execution_count": 11,
   "id": "f4200ba9",
   "metadata": {},
   "outputs": [],
   "source": [
    "df[['OperatingSystems', 'Browser', 'Region', 'TrafficType']] = df[['OperatingSystems', 'Browser', 'Region', 'TrafficType']].astype('category')"
   ]
  },
  {
   "cell_type": "code",
   "execution_count": 12,
   "id": "05065f44",
   "metadata": {},
   "outputs": [
    {
     "data": {
      "text/plain": [
       "Month               category\n",
       "OperatingSystems    category\n",
       "Browser             category\n",
       "Region              category\n",
       "TrafficType         category\n",
       "VisitorType         category\n",
       "Weekend                 bool\n",
       "Revenue                 bool\n",
       "dtype: object"
      ]
     },
     "execution_count": 12,
     "metadata": {},
     "output_type": "execute_result"
    }
   ],
   "source": [
    "df.dtypes[10:]"
   ]
  },
  {
   "cell_type": "markdown",
   "id": "a5441a59",
   "metadata": {},
   "source": [
    "## NA preprocessing "
   ]
  },
  {
   "cell_type": "code",
   "execution_count": 13,
   "id": "626e7be1",
   "metadata": {},
   "outputs": [
    {
     "data": {
      "text/plain": [
       "Administrative             0\n",
       "Administrative_Duration    0\n",
       "Informational              0\n",
       "Informational_Duration     0\n",
       "ProductRelated             0\n",
       "ProductRelated_Duration    0\n",
       "BounceRates                0\n",
       "ExitRates                  0\n",
       "PageValues                 0\n",
       "SpecialDay                 0\n",
       "Month                      0\n",
       "OperatingSystems           0\n",
       "Browser                    0\n",
       "Region                     0\n",
       "TrafficType                0\n",
       "VisitorType                0\n",
       "Weekend                    0\n",
       "Revenue                    0\n",
       "dtype: int64"
      ]
     },
     "execution_count": 13,
     "metadata": {},
     "output_type": "execute_result"
    }
   ],
   "source": [
    "df.isna().sum()"
   ]
  },
  {
   "cell_type": "markdown",
   "id": "0aea8ce8",
   "metadata": {},
   "source": [
    "There are no NA values"
   ]
  },
  {
   "cell_type": "markdown",
   "id": "2c39283a",
   "metadata": {},
   "source": [
    "# Pipeline"
   ]
  },
  {
   "cell_type": "code",
   "execution_count": null,
   "id": "75bf98d5",
   "metadata": {},
   "outputs": [],
   "source": [
    "\n",
    "\n"
   ]
  },
  {
   "cell_type": "code",
   "execution_count": 14,
   "id": "aa808ea1",
   "metadata": {},
   "outputs": [],
   "source": [
    "X = df.copy().drop(['Revenue'], axis=1)\n",
    "y = df.Revenue.copy()"
   ]
  },
  {
   "cell_type": "code",
   "execution_count": 15,
   "id": "0de60936",
   "metadata": {},
   "outputs": [],
   "source": [
    "X_train, X_test, y_train, y_test = train_test_split(X, y, test_size=0.3, random_state=24)"
   ]
  },
  {
   "cell_type": "code",
   "execution_count": 16,
   "id": "8c79d258",
   "metadata": {},
   "outputs": [],
   "source": [
    "#numerical_features = make_column_selector(dtype_include=np.number)\n",
    "numerical_features = X.select_dtypes(include=['float']).columns\n",
    "#categorical_features = make_column_selector(dtype_exclude=np.number)\n",
    "categorical_features =  X.select_dtypes(include=['category']).columns\n",
    "boolean_features =  X.select_dtypes(include=['bool']).columns"
   ]
  },
  {
   "cell_type": "code",
   "execution_count": 17,
   "id": "d0d44c66",
   "metadata": {},
   "outputs": [],
   "source": [
    "numerical_pipeline = make_pipeline(StandardScaler())\n",
    "categorical_pipeline = Pipeline(steps=[( 'onehot',OneHotEncoder(handle_unknown = 'ignore'))])\n",
    "boolean_pipeline = make_pipeline(FunctionTransformer(lambda x: x))"
   ]
  },
  {
   "cell_type": "code",
   "execution_count": 18,
   "id": "e03de949",
   "metadata": {},
   "outputs": [],
   "source": [
    "preprocessor = ColumnTransformer(\n",
    "    transformers=[\n",
    "                    ('num', numerical_pipeline, numerical_features),\n",
    "                    ('cat', categorical_pipeline, categorical_features),\n",
    "                    ('bool', boolean_pipeline, boolean_features)\n",
    "    ])"
   ]
  },
  {
   "cell_type": "markdown",
   "id": "6e28a121",
   "metadata": {},
   "source": [
    "## SVC Model"
   ]
  },
  {
   "cell_type": "code",
   "execution_count": 19,
   "id": "a4d368fd",
   "metadata": {},
   "outputs": [],
   "source": [
    "SVG_model = Pipeline(steps=[\n",
    "        ('preprocessor', preprocessor),\n",
    "        ('svg', SVC())\n",
    "    ])"
   ]
  },
  {
   "cell_type": "code",
   "execution_count": 20,
   "id": "e9c0edad",
   "metadata": {},
   "outputs": [],
   "source": [
    "fitted_SVG_model = SVG_model.fit(X_train, y_train)"
   ]
  },
  {
   "cell_type": "code",
   "execution_count": 21,
   "id": "85845857",
   "metadata": {},
   "outputs": [],
   "source": [
    "y_prediction_SVG = fitted_SVG_model.predict(X_test)"
   ]
  },
  {
   "cell_type": "code",
   "execution_count": 22,
   "id": "8e0da7d7",
   "metadata": {},
   "outputs": [
    {
     "data": {
      "text/html": [
       "<style>#sk-ff974ba7-7c29-47b6-b549-9e8b399a0a11 {color: black;background-color: white;}#sk-ff974ba7-7c29-47b6-b549-9e8b399a0a11 pre{padding: 0;}#sk-ff974ba7-7c29-47b6-b549-9e8b399a0a11 div.sk-toggleable {background-color: white;}#sk-ff974ba7-7c29-47b6-b549-9e8b399a0a11 label.sk-toggleable__label {cursor: pointer;display: block;width: 100%;margin-bottom: 0;padding: 0.3em;box-sizing: border-box;text-align: center;}#sk-ff974ba7-7c29-47b6-b549-9e8b399a0a11 div.sk-toggleable__content {max-height: 0;max-width: 0;overflow: hidden;text-align: left;background-color: #f0f8ff;}#sk-ff974ba7-7c29-47b6-b549-9e8b399a0a11 div.sk-toggleable__content pre {margin: 0.2em;color: black;border-radius: 0.25em;background-color: #f0f8ff;}#sk-ff974ba7-7c29-47b6-b549-9e8b399a0a11 input.sk-toggleable__control:checked~div.sk-toggleable__content {max-height: 200px;max-width: 100%;overflow: auto;}#sk-ff974ba7-7c29-47b6-b549-9e8b399a0a11 div.sk-estimator input.sk-toggleable__control:checked~label.sk-toggleable__label {background-color: #d4ebff;}#sk-ff974ba7-7c29-47b6-b549-9e8b399a0a11 div.sk-label input.sk-toggleable__control:checked~label.sk-toggleable__label {background-color: #d4ebff;}#sk-ff974ba7-7c29-47b6-b549-9e8b399a0a11 input.sk-hidden--visually {border: 0;clip: rect(1px 1px 1px 1px);clip: rect(1px, 1px, 1px, 1px);height: 1px;margin: -1px;overflow: hidden;padding: 0;position: absolute;width: 1px;}#sk-ff974ba7-7c29-47b6-b549-9e8b399a0a11 div.sk-estimator {font-family: monospace;background-color: #f0f8ff;border: 1px dotted black;border-radius: 0.25em;box-sizing: border-box;margin-bottom: 0.5em;}#sk-ff974ba7-7c29-47b6-b549-9e8b399a0a11 div.sk-estimator:hover {background-color: #d4ebff;}#sk-ff974ba7-7c29-47b6-b549-9e8b399a0a11 div.sk-parallel-item::after {content: \"\";width: 100%;border-bottom: 1px solid gray;flex-grow: 1;}#sk-ff974ba7-7c29-47b6-b549-9e8b399a0a11 div.sk-label:hover label.sk-toggleable__label {background-color: #d4ebff;}#sk-ff974ba7-7c29-47b6-b549-9e8b399a0a11 div.sk-serial::before {content: \"\";position: absolute;border-left: 1px solid gray;box-sizing: border-box;top: 2em;bottom: 0;left: 50%;}#sk-ff974ba7-7c29-47b6-b549-9e8b399a0a11 div.sk-serial {display: flex;flex-direction: column;align-items: center;background-color: white;padding-right: 0.2em;padding-left: 0.2em;}#sk-ff974ba7-7c29-47b6-b549-9e8b399a0a11 div.sk-item {z-index: 1;}#sk-ff974ba7-7c29-47b6-b549-9e8b399a0a11 div.sk-parallel {display: flex;align-items: stretch;justify-content: center;background-color: white;}#sk-ff974ba7-7c29-47b6-b549-9e8b399a0a11 div.sk-parallel::before {content: \"\";position: absolute;border-left: 1px solid gray;box-sizing: border-box;top: 2em;bottom: 0;left: 50%;}#sk-ff974ba7-7c29-47b6-b549-9e8b399a0a11 div.sk-parallel-item {display: flex;flex-direction: column;position: relative;background-color: white;}#sk-ff974ba7-7c29-47b6-b549-9e8b399a0a11 div.sk-parallel-item:first-child::after {align-self: flex-end;width: 50%;}#sk-ff974ba7-7c29-47b6-b549-9e8b399a0a11 div.sk-parallel-item:last-child::after {align-self: flex-start;width: 50%;}#sk-ff974ba7-7c29-47b6-b549-9e8b399a0a11 div.sk-parallel-item:only-child::after {width: 0;}#sk-ff974ba7-7c29-47b6-b549-9e8b399a0a11 div.sk-dashed-wrapped {border: 1px dashed gray;margin: 0 0.4em 0.5em 0.4em;box-sizing: border-box;padding-bottom: 0.4em;background-color: white;position: relative;}#sk-ff974ba7-7c29-47b6-b549-9e8b399a0a11 div.sk-label label {font-family: monospace;font-weight: bold;background-color: white;display: inline-block;line-height: 1.2em;}#sk-ff974ba7-7c29-47b6-b549-9e8b399a0a11 div.sk-label-container {position: relative;z-index: 2;text-align: center;}#sk-ff974ba7-7c29-47b6-b549-9e8b399a0a11 div.sk-container {display: inline-block;position: relative;}</style><div id=\"sk-ff974ba7-7c29-47b6-b549-9e8b399a0a11\" class\"sk-top-container\"><div class=\"sk-container\"><div class=\"sk-item sk-dashed-wrapped\"><div class=\"sk-label-container\"><div class=\"sk-label sk-toggleable\"><input class=\"sk-toggleable__control sk-hidden--visually\" id=\"86394dfc-0a6d-40a1-b425-f6cb060fcd5c\" type=\"checkbox\" ><label class=\"sk-toggleable__label\" for=\"86394dfc-0a6d-40a1-b425-f6cb060fcd5c\">Pipeline</label><div class=\"sk-toggleable__content\"><pre>Pipeline(steps=[('preprocessor',\n",
       "                 ColumnTransformer(transformers=[('num',\n",
       "                                                  Pipeline(steps=[('standardscaler',\n",
       "                                                                   StandardScaler())]),\n",
       "                                                  Index(['Administrative_Duration', 'Informational_Duration',\n",
       "       'ProductRelated_Duration', 'BounceRates', 'ExitRates', 'PageValues',\n",
       "       'SpecialDay'],\n",
       "      dtype='object')),\n",
       "                                                 ('cat',\n",
       "                                                  Pipeline(steps=[('onehot',\n",
       "                                                                   OneHotEncoder(handle_unknown='ignore'))]),\n",
       "                                                  Index(['Month', 'OperatingSystems', 'Browser', 'Region', 'TrafficType',\n",
       "       'VisitorType'],\n",
       "      dtype='object')),\n",
       "                                                 ('bool',\n",
       "                                                  Pipeline(steps=[('functiontransformer',\n",
       "                                                                   FunctionTransformer(func=<function <lambda> at 0x11df64310>))]),\n",
       "                                                  Index(['Weekend'], dtype='object'))])),\n",
       "                ('svg', SVC())])</pre></div></div></div><div class=\"sk-serial\"><div class=\"sk-item sk-dashed-wrapped\"><div class=\"sk-label-container\"><div class=\"sk-label sk-toggleable\"><input class=\"sk-toggleable__control sk-hidden--visually\" id=\"65012b02-dfd9-42fd-aa53-98e9c557d0d5\" type=\"checkbox\" ><label class=\"sk-toggleable__label\" for=\"65012b02-dfd9-42fd-aa53-98e9c557d0d5\">preprocessor: ColumnTransformer</label><div class=\"sk-toggleable__content\"><pre>ColumnTransformer(transformers=[('num',\n",
       "                                 Pipeline(steps=[('standardscaler',\n",
       "                                                  StandardScaler())]),\n",
       "                                 Index(['Administrative_Duration', 'Informational_Duration',\n",
       "       'ProductRelated_Duration', 'BounceRates', 'ExitRates', 'PageValues',\n",
       "       'SpecialDay'],\n",
       "      dtype='object')),\n",
       "                                ('cat',\n",
       "                                 Pipeline(steps=[('onehot',\n",
       "                                                  OneHotEncoder(handle_unknown='ignore'))]),\n",
       "                                 Index(['Month', 'OperatingSystems', 'Browser', 'Region', 'TrafficType',\n",
       "       'VisitorType'],\n",
       "      dtype='object')),\n",
       "                                ('bool',\n",
       "                                 Pipeline(steps=[('functiontransformer',\n",
       "                                                  FunctionTransformer(func=<function <lambda> at 0x11df64310>))]),\n",
       "                                 Index(['Weekend'], dtype='object'))])</pre></div></div></div><div class=\"sk-parallel\"><div class=\"sk-parallel-item\"><div class=\"sk-item\"><div class=\"sk-label-container\"><div class=\"sk-label sk-toggleable\"><input class=\"sk-toggleable__control sk-hidden--visually\" id=\"ba8e3c70-782d-4a33-bff4-aef2d6316ab6\" type=\"checkbox\" ><label class=\"sk-toggleable__label\" for=\"ba8e3c70-782d-4a33-bff4-aef2d6316ab6\">num</label><div class=\"sk-toggleable__content\"><pre>Index(['Administrative_Duration', 'Informational_Duration',\n",
       "       'ProductRelated_Duration', 'BounceRates', 'ExitRates', 'PageValues',\n",
       "       'SpecialDay'],\n",
       "      dtype='object')</pre></div></div></div><div class=\"sk-serial\"><div class=\"sk-item\"><div class=\"sk-serial\"><div class=\"sk-item\"><div class=\"sk-estimator sk-toggleable\"><input class=\"sk-toggleable__control sk-hidden--visually\" id=\"21090260-c9fb-4c5e-a179-f357b9d685f2\" type=\"checkbox\" ><label class=\"sk-toggleable__label\" for=\"21090260-c9fb-4c5e-a179-f357b9d685f2\">StandardScaler</label><div class=\"sk-toggleable__content\"><pre>StandardScaler()</pre></div></div></div></div></div></div></div></div><div class=\"sk-parallel-item\"><div class=\"sk-item\"><div class=\"sk-label-container\"><div class=\"sk-label sk-toggleable\"><input class=\"sk-toggleable__control sk-hidden--visually\" id=\"4dde7d05-cc2d-4a76-97cf-be054602de25\" type=\"checkbox\" ><label class=\"sk-toggleable__label\" for=\"4dde7d05-cc2d-4a76-97cf-be054602de25\">cat</label><div class=\"sk-toggleable__content\"><pre>Index(['Month', 'OperatingSystems', 'Browser', 'Region', 'TrafficType',\n",
       "       'VisitorType'],\n",
       "      dtype='object')</pre></div></div></div><div class=\"sk-serial\"><div class=\"sk-item\"><div class=\"sk-serial\"><div class=\"sk-item\"><div class=\"sk-estimator sk-toggleable\"><input class=\"sk-toggleable__control sk-hidden--visually\" id=\"1279540e-e042-4711-8a32-cac3e7a33ccf\" type=\"checkbox\" ><label class=\"sk-toggleable__label\" for=\"1279540e-e042-4711-8a32-cac3e7a33ccf\">OneHotEncoder</label><div class=\"sk-toggleable__content\"><pre>OneHotEncoder(handle_unknown='ignore')</pre></div></div></div></div></div></div></div></div><div class=\"sk-parallel-item\"><div class=\"sk-item\"><div class=\"sk-label-container\"><div class=\"sk-label sk-toggleable\"><input class=\"sk-toggleable__control sk-hidden--visually\" id=\"565557f4-6f3c-4717-a93e-cd2da6f36d4b\" type=\"checkbox\" ><label class=\"sk-toggleable__label\" for=\"565557f4-6f3c-4717-a93e-cd2da6f36d4b\">bool</label><div class=\"sk-toggleable__content\"><pre>Index(['Weekend'], dtype='object')</pre></div></div></div><div class=\"sk-serial\"><div class=\"sk-item\"><div class=\"sk-serial\"><div class=\"sk-item\"><div class=\"sk-estimator sk-toggleable\"><input class=\"sk-toggleable__control sk-hidden--visually\" id=\"28e5470b-ae0f-461a-9823-f184fb07d62e\" type=\"checkbox\" ><label class=\"sk-toggleable__label\" for=\"28e5470b-ae0f-461a-9823-f184fb07d62e\">FunctionTransformer</label><div class=\"sk-toggleable__content\"><pre>FunctionTransformer(func=<function <lambda> at 0x11df64310>)</pre></div></div></div></div></div></div></div></div></div></div><div class=\"sk-item\"><div class=\"sk-estimator sk-toggleable\"><input class=\"sk-toggleable__control sk-hidden--visually\" id=\"cbc8f270-4513-4daa-85b7-ee83f9638135\" type=\"checkbox\" ><label class=\"sk-toggleable__label\" for=\"cbc8f270-4513-4daa-85b7-ee83f9638135\">SVC</label><div class=\"sk-toggleable__content\"><pre>SVC()</pre></div></div></div></div></div></div></div>"
      ],
      "text/plain": [
       "Pipeline(steps=[('preprocessor',\n",
       "                 ColumnTransformer(transformers=[('num',\n",
       "                                                  Pipeline(steps=[('standardscaler',\n",
       "                                                                   StandardScaler())]),\n",
       "                                                  Index(['Administrative_Duration', 'Informational_Duration',\n",
       "       'ProductRelated_Duration', 'BounceRates', 'ExitRates', 'PageValues',\n",
       "       'SpecialDay'],\n",
       "      dtype='object')),\n",
       "                                                 ('cat',\n",
       "                                                  Pipeline(steps=[('onehot',\n",
       "                                                                   OneHotEncoder(handle_unknown='ignore'))]),\n",
       "                                                  Index(['Month', 'OperatingSystems', 'Browser', 'Region', 'TrafficType',\n",
       "       'VisitorType'],\n",
       "      dtype='object')),\n",
       "                                                 ('bool',\n",
       "                                                  Pipeline(steps=[('functiontransformer',\n",
       "                                                                   FunctionTransformer(func=<function <lambda> at 0x11df64310>))]),\n",
       "                                                  Index(['Weekend'], dtype='object'))])),\n",
       "                ('svg', SVC())])"
      ]
     },
     "execution_count": 22,
     "metadata": {},
     "output_type": "execute_result"
    }
   ],
   "source": [
    "SVG_model"
   ]
  },
  {
   "cell_type": "markdown",
   "id": "f622994c",
   "metadata": {},
   "source": [
    "### Model evaluation"
   ]
  },
  {
   "cell_type": "code",
   "execution_count": 23,
   "id": "5d952cb0",
   "metadata": {},
   "outputs": [],
   "source": [
    "cf_matrix = confusion_matrix(y_test, y_prediction_SVG)"
   ]
  },
  {
   "cell_type": "markdown",
   "id": "b38b8b72",
   "metadata": {},
   "source": [
    "#### Accuracy"
   ]
  },
  {
   "cell_type": "code",
   "execution_count": 24,
   "id": "3be07590",
   "metadata": {},
   "outputs": [
    {
     "data": {
      "text/plain": [
       "0.8978102189781022"
      ]
     },
     "execution_count": 24,
     "metadata": {},
     "output_type": "execute_result"
    }
   ],
   "source": [
    "accuracy_score(y_test, y_prediction_SVG)"
   ]
  },
  {
   "cell_type": "markdown",
   "id": "bfea4b04",
   "metadata": {},
   "source": [
    "+90% of accuracy is good. But it's quite easy with a unbalanced dataset like we have.\n",
    "\n",
    "So we will use an other metric to evaluate the model prediction.\n"
   ]
  },
  {
   "cell_type": "code",
   "execution_count": 25,
   "id": "b110ba9b",
   "metadata": {},
   "outputs": [
    {
     "data": {
      "image/png": "[encoded data removed]",
      "text/plain": [
       "<Figure size 432x288 with 1 Axes>"
      ]
     },
     "metadata": {
      "needs_background": "light"
     },
     "output_type": "display_data"
    }
   ],
   "source": [
    "group_names = ['True Neg','False Pos','False Neg','True Pos']\n",
    "group_counts = [\"{0:0.0f}\".format(value) for value in\n",
    "cf_matrix.flatten()]\n",
    "group_percentages = [\"{0:.2%}\".format(value) for value in\n",
    "cf_matrix.flatten()/np.sum(cf_matrix)]\n",
    "labels = [f\"{v1}\\n{v2}\\n{v3}\" for v1, v2, v3 in\n",
    "zip(group_names,group_counts,group_percentages)]\n",
    "labels = np.asarray(labels).reshape(2,2)\n",
    "ax = sns.heatmap(cf_matrix, annot=labels, fmt='', cmap=ListedColormap(['white']), cbar=False, cbar_kws={\"shrink\": .82},\n",
    "                  linewidths=0.1, linecolor='gray')\n",
    "ax.set_title('Confusion Matrix \\n\\n');\n",
    "ax.set_xlabel('\\nPredicted Values')\n",
    "ax.set_ylabel('Actual Values ');\n",
    "## Ticket labels - List must be in alphabetical order\n",
    "ax.xaxis.set_ticklabels(['False','True'])\n",
    "ax.yaxis.set_ticklabels(['False','True'])\n",
    "## Display the visualization of the Confusion Matrix.\n",
    "plt.show()"
   ]
  },
  {
   "cell_type": "markdown",
   "id": "b1b6574e",
   "metadata": {},
   "source": [
    "*Explenation about why the accuracy isn't a good metric here:*\n",
    "\n",
    "In this dataset only 15% of the data correspond to possitive class (people who buy).\n",
    "So a basic model that respond always false will have 85% accuracy."
   ]
  },
  {
   "cell_type": "markdown",
   "id": "44a5a36c",
   "metadata": {},
   "source": [
    "**So let's see our result with corrected metric.**"
   ]
  },
  {
   "cell_type": "code",
   "execution_count": 26,
   "id": "835ce807",
   "metadata": {},
   "outputs": [],
   "source": [
    "def corrected_confusion_matrix(y_test, y_prediction):\n",
    "    cf_matrix = confusion_matrix(y_test, y_prediction)\n",
    "    \n",
    "    N = [len(y_test[y_test==False]), len(y_test[y_test==False]), len(y_test[y_test==True]), len(y_test[y_test==True])]\n",
    "    values = [a/b for a,b in zip(cf_matrix.flatten(),N)]\n",
    "    \n",
    "    data = [[values[0], values[1]],[values[2], values[3]]]\n",
    "    \n",
    "    group_names = ['True Neg','False Pos','False Neg','True Pos']\n",
    "    group_counts = [\"{0:0.0f}\".format(value) for value in\n",
    "    cf_matrix.flatten()]\n",
    "    group_percentages = [\"{0:.2%}\".format(value) for value in\n",
    "    values]\n",
    "    labels = [f\"{v1}\\n{v2}\\n{v3}\" for v1, v2, v3 in\n",
    "    zip(group_names,group_counts,group_percentages)]\n",
    "    labels = np.asarray(labels).reshape(2,2)\n",
    "    ax = sns.heatmap(data, annot=labels, fmt='', cmap='Blues')\n",
    "    ax.set_title('Corrected Confusion Matrix \\n\\n');\n",
    "    ax.set_xlabel('\\nPredicted Values')\n",
    "    ax.set_ylabel('Actual Values ');\n",
    "    ## Ticket labels - List must be in alphabetical order\n",
    "    ax.xaxis.set_ticklabels(['False','True'])\n",
    "    ax.yaxis.set_ticklabels(['False','True'])\n",
    "    ## Display the visualization of the Confusion Matrix.\n",
    "    plt.show()"
   ]
  },
  {
   "cell_type": "code",
   "execution_count": 27,
   "id": "23c039f1",
   "metadata": {},
   "outputs": [
    {
     "data": {
      "image/png": "[encoded data removed]",
      "text/plain": [
       "<Figure size 432x288 with 2 Axes>"
      ]
     },
     "metadata": {
      "needs_background": "light"
     },
     "output_type": "display_data"
    }
   ],
   "source": [
    "corrected_confusion_matrix(y_test, y_prediction_SVG)"
   ]
  },
  {
   "cell_type": "markdown",
   "id": "e823a94b",
   "metadata": {},
   "source": [
    "The results of this first SVG model iare:\n",
    "\n",
    "**50,9%** of buyers are correctly tagged.<br>\n",
    "**96,45%** of none-buyers are correctly tagged.<br>\n",
    "**Less than 4%** of none-buyers are tagged as buyer.\n",
    "\n",
    "**We need** to reduce our model False Neg"
   ]
  },
  {
   "cell_type": "code",
   "execution_count": null,
   "id": "7e6741dd",
   "metadata": {},
   "outputs": [],
   "source": []
  },
  {
   "cell_type": "code",
   "execution_count": 28,
   "id": "55c40436",
   "metadata": {},
   "outputs": [
    {
     "data": {
      "text/plain": [
       "0.5092250922509225"
      ]
     },
     "execution_count": 28,
     "metadata": {},
     "output_type": "execute_result"
    }
   ],
   "source": [
    "recall_score(y_test, y_prediction_SVG)"
   ]
  },
  {
   "cell_type": "markdown",
   "id": "c16bd3aa",
   "metadata": {},
   "source": [
    "**Our model have a f1 score of 59% and a recall of 50,9%**. (f1 score correspond to corected accuracy for unballanced dataset)"
   ]
  },
  {
   "cell_type": "markdown",
   "id": "2827bca7",
   "metadata": {},
   "source": [
    "## Logistic Regression"
   ]
  },
  {
   "cell_type": "code",
   "execution_count": 29,
   "id": "96e92772",
   "metadata": {},
   "outputs": [],
   "source": [
    "Logistic_Regression_model = Pipeline(steps=[\n",
    "        ('preprocessor', preprocessor),\n",
    "        ('LogisticRegression', LogisticRegression(max_iter=1000 ))\n",
    "    ])"
   ]
  },
  {
   "cell_type": "code",
   "execution_count": 30,
   "id": "9a8352bf",
   "metadata": {},
   "outputs": [],
   "source": [
    "fitted_Logistic_Regression_model = Logistic_Regression_model.fit(X_train, y_train)"
   ]
  },
  {
   "cell_type": "code",
   "execution_count": 31,
   "id": "a702f8f2",
   "metadata": {},
   "outputs": [],
   "source": [
    "y_prediction_LR = fitted_Logistic_Regression_model.predict(X_test)"
   ]
  },
  {
   "cell_type": "code",
   "execution_count": 32,
   "id": "bb329254",
   "metadata": {},
   "outputs": [
    {
     "data": {
      "text/html": [
       "<style>#sk-6ba7bfe3-c1a6-407e-8c62-2cef10346870 {color: black;background-color: white;}#sk-6ba7bfe3-c1a6-407e-8c62-2cef10346870 pre{padding: 0;}#sk-6ba7bfe3-c1a6-407e-8c62-2cef10346870 div.sk-toggleable {background-color: white;}#sk-6ba7bfe3-c1a6-407e-8c62-2cef10346870 label.sk-toggleable__label {cursor: pointer;display: block;width: 100%;margin-bottom: 0;padding: 0.3em;box-sizing: border-box;text-align: center;}#sk-6ba7bfe3-c1a6-407e-8c62-2cef10346870 div.sk-toggleable__content {max-height: 0;max-width: 0;overflow: hidden;text-align: left;background-color: #f0f8ff;}#sk-6ba7bfe3-c1a6-407e-8c62-2cef10346870 div.sk-toggleable__content pre {margin: 0.2em;color: black;border-radius: 0.25em;background-color: #f0f8ff;}#sk-6ba7bfe3-c1a6-407e-8c62-2cef10346870 input.sk-toggleable__control:checked~div.sk-toggleable__content {max-height: 200px;max-width: 100%;overflow: auto;}#sk-6ba7bfe3-c1a6-407e-8c62-2cef10346870 div.sk-estimator input.sk-toggleable__control:checked~label.sk-toggleable__label {background-color: #d4ebff;}#sk-6ba7bfe3-c1a6-407e-8c62-2cef10346870 div.sk-label input.sk-toggleable__control:checked~label.sk-toggleable__label {background-color: #d4ebff;}#sk-6ba7bfe3-c1a6-407e-8c62-2cef10346870 input.sk-hidden--visually {border: 0;clip: rect(1px 1px 1px 1px);clip: rect(1px, 1px, 1px, 1px);height: 1px;margin: -1px;overflow: hidden;padding: 0;position: absolute;width: 1px;}#sk-6ba7bfe3-c1a6-407e-8c62-2cef10346870 div.sk-estimator {font-family: monospace;background-color: #f0f8ff;border: 1px dotted black;border-radius: 0.25em;box-sizing: border-box;margin-bottom: 0.5em;}#sk-6ba7bfe3-c1a6-407e-8c62-2cef10346870 div.sk-estimator:hover {background-color: #d4ebff;}#sk-6ba7bfe3-c1a6-407e-8c62-2cef10346870 div.sk-parallel-item::after {content: \"\";width: 100%;border-bottom: 1px solid gray;flex-grow: 1;}#sk-6ba7bfe3-c1a6-407e-8c62-2cef10346870 div.sk-label:hover label.sk-toggleable__label {background-color: #d4ebff;}#sk-6ba7bfe3-c1a6-407e-8c62-2cef10346870 div.sk-serial::before {content: \"\";position: absolute;border-left: 1px solid gray;box-sizing: border-box;top: 2em;bottom: 0;left: 50%;}#sk-6ba7bfe3-c1a6-407e-8c62-2cef10346870 div.sk-serial {display: flex;flex-direction: column;align-items: center;background-color: white;padding-right: 0.2em;padding-left: 0.2em;}#sk-6ba7bfe3-c1a6-407e-8c62-2cef10346870 div.sk-item {z-index: 1;}#sk-6ba7bfe3-c1a6-407e-8c62-2cef10346870 div.sk-parallel {display: flex;align-items: stretch;justify-content: center;background-color: white;}#sk-6ba7bfe3-c1a6-407e-8c62-2cef10346870 div.sk-parallel::before {content: \"\";position: absolute;border-left: 1px solid gray;box-sizing: border-box;top: 2em;bottom: 0;left: 50%;}#sk-6ba7bfe3-c1a6-407e-8c62-2cef10346870 div.sk-parallel-item {display: flex;flex-direction: column;position: relative;background-color: white;}#sk-6ba7bfe3-c1a6-407e-8c62-2cef10346870 div.sk-parallel-item:first-child::after {align-self: flex-end;width: 50%;}#sk-6ba7bfe3-c1a6-407e-8c62-2cef10346870 div.sk-parallel-item:last-child::after {align-self: flex-start;width: 50%;}#sk-6ba7bfe3-c1a6-407e-8c62-2cef10346870 div.sk-parallel-item:only-child::after {width: 0;}#sk-6ba7bfe3-c1a6-407e-8c62-2cef10346870 div.sk-dashed-wrapped {border: 1px dashed gray;margin: 0 0.4em 0.5em 0.4em;box-sizing: border-box;padding-bottom: 0.4em;background-color: white;position: relative;}#sk-6ba7bfe3-c1a6-407e-8c62-2cef10346870 div.sk-label label {font-family: monospace;font-weight: bold;background-color: white;display: inline-block;line-height: 1.2em;}#sk-6ba7bfe3-c1a6-407e-8c62-2cef10346870 div.sk-label-container {position: relative;z-index: 2;text-align: center;}#sk-6ba7bfe3-c1a6-407e-8c62-2cef10346870 div.sk-container {display: inline-block;position: relative;}</style><div id=\"sk-6ba7bfe3-c1a6-407e-8c62-2cef10346870\" class\"sk-top-container\"><div class=\"sk-container\"><div class=\"sk-item sk-dashed-wrapped\"><div class=\"sk-label-container\"><div class=\"sk-label sk-toggleable\"><input class=\"sk-toggleable__control sk-hidden--visually\" id=\"e0d58d1e-3021-46f5-8c4f-8f2201369bf8\" type=\"checkbox\" ><label class=\"sk-toggleable__label\" for=\"e0d58d1e-3021-46f5-8c4f-8f2201369bf8\">Pipeline</label><div class=\"sk-toggleable__content\"><pre>Pipeline(steps=[('preprocessor',\n",
       "                 ColumnTransformer(transformers=[('num',\n",
       "                                                  Pipeline(steps=[('standardscaler',\n",
       "                                                                   StandardScaler())]),\n",
       "                                                  Index(['Administrative_Duration', 'Informational_Duration',\n",
       "       'ProductRelated_Duration', 'BounceRates', 'ExitRates', 'PageValues',\n",
       "       'SpecialDay'],\n",
       "      dtype='object')),\n",
       "                                                 ('cat',\n",
       "                                                  Pipeline(steps=[('onehot',\n",
       "                                                                   OneHotEncoder(handle_unknown='ignore'))]),\n",
       "                                                  Index(['Month', 'OperatingSystems', 'Browser', 'Region', 'TrafficType',\n",
       "       'VisitorType'],\n",
       "      dtype='object')),\n",
       "                                                 ('bool',\n",
       "                                                  Pipeline(steps=[('functiontransformer',\n",
       "                                                                   FunctionTransformer(func=<function <lambda> at 0x11df64310>))]),\n",
       "                                                  Index(['Weekend'], dtype='object'))])),\n",
       "                ('LogisticRegression', LogisticRegression(max_iter=1000))])</pre></div></div></div><div class=\"sk-serial\"><div class=\"sk-item sk-dashed-wrapped\"><div class=\"sk-label-container\"><div class=\"sk-label sk-toggleable\"><input class=\"sk-toggleable__control sk-hidden--visually\" id=\"ead5e4c4-a56e-44f6-b909-51eeb5ba40f4\" type=\"checkbox\" ><label class=\"sk-toggleable__label\" for=\"ead5e4c4-a56e-44f6-b909-51eeb5ba40f4\">preprocessor: ColumnTransformer</label><div class=\"sk-toggleable__content\"><pre>ColumnTransformer(transformers=[('num',\n",
       "                                 Pipeline(steps=[('standardscaler',\n",
       "                                                  StandardScaler())]),\n",
       "                                 Index(['Administrative_Duration', 'Informational_Duration',\n",
       "       'ProductRelated_Duration', 'BounceRates', 'ExitRates', 'PageValues',\n",
       "       'SpecialDay'],\n",
       "      dtype='object')),\n",
       "                                ('cat',\n",
       "                                 Pipeline(steps=[('onehot',\n",
       "                                                  OneHotEncoder(handle_unknown='ignore'))]),\n",
       "                                 Index(['Month', 'OperatingSystems', 'Browser', 'Region', 'TrafficType',\n",
       "       'VisitorType'],\n",
       "      dtype='object')),\n",
       "                                ('bool',\n",
       "                                 Pipeline(steps=[('functiontransformer',\n",
       "                                                  FunctionTransformer(func=<function <lambda> at 0x11df64310>))]),\n",
       "                                 Index(['Weekend'], dtype='object'))])</pre></div></div></div><div class=\"sk-parallel\"><div class=\"sk-parallel-item\"><div class=\"sk-item\"><div class=\"sk-label-container\"><div class=\"sk-label sk-toggleable\"><input class=\"sk-toggleable__control sk-hidden--visually\" id=\"27376f06-ced9-48c9-b3fd-2b186bd5c18f\" type=\"checkbox\" ><label class=\"sk-toggleable__label\" for=\"27376f06-ced9-48c9-b3fd-2b186bd5c18f\">num</label><div class=\"sk-toggleable__content\"><pre>Index(['Administrative_Duration', 'Informational_Duration',\n",
       "       'ProductRelated_Duration', 'BounceRates', 'ExitRates', 'PageValues',\n",
       "       'SpecialDay'],\n",
       "      dtype='object')</pre></div></div></div><div class=\"sk-serial\"><div class=\"sk-item\"><div class=\"sk-serial\"><div class=\"sk-item\"><div class=\"sk-estimator sk-toggleable\"><input class=\"sk-toggleable__control sk-hidden--visually\" id=\"86d43aaf-2d18-43a8-843f-de4e173a7271\" type=\"checkbox\" ><label class=\"sk-toggleable__label\" for=\"86d43aaf-2d18-43a8-843f-de4e173a7271\">StandardScaler</label><div class=\"sk-toggleable__content\"><pre>StandardScaler()</pre></div></div></div></div></div></div></div></div><div class=\"sk-parallel-item\"><div class=\"sk-item\"><div class=\"sk-label-container\"><div class=\"sk-label sk-toggleable\"><input class=\"sk-toggleable__control sk-hidden--visually\" id=\"9e9d51fa-fd59-4075-8465-9bf52c66c474\" type=\"checkbox\" ><label class=\"sk-toggleable__label\" for=\"9e9d51fa-fd59-4075-8465-9bf52c66c474\">cat</label><div class=\"sk-toggleable__content\"><pre>Index(['Month', 'OperatingSystems', 'Browser', 'Region', 'TrafficType',\n",
       "       'VisitorType'],\n",
       "      dtype='object')</pre></div></div></div><div class=\"sk-serial\"><div class=\"sk-item\"><div class=\"sk-serial\"><div class=\"sk-item\"><div class=\"sk-estimator sk-toggleable\"><input class=\"sk-toggleable__control sk-hidden--visually\" id=\"161f4c31-3d87-4fa8-9c72-9764e19d34ea\" type=\"checkbox\" ><label class=\"sk-toggleable__label\" for=\"161f4c31-3d87-4fa8-9c72-9764e19d34ea\">OneHotEncoder</label><div class=\"sk-toggleable__content\"><pre>OneHotEncoder(handle_unknown='ignore')</pre></div></div></div></div></div></div></div></div><div class=\"sk-parallel-item\"><div class=\"sk-item\"><div class=\"sk-label-container\"><div class=\"sk-label sk-toggleable\"><input class=\"sk-toggleable__control sk-hidden--visually\" id=\"911574f5-e5f4-42d3-860e-48b82b90e01f\" type=\"checkbox\" ><label class=\"sk-toggleable__label\" for=\"911574f5-e5f4-42d3-860e-48b82b90e01f\">bool</label><div class=\"sk-toggleable__content\"><pre>Index(['Weekend'], dtype='object')</pre></div></div></div><div class=\"sk-serial\"><div class=\"sk-item\"><div class=\"sk-serial\"><div class=\"sk-item\"><div class=\"sk-estimator sk-toggleable\"><input class=\"sk-toggleable__control sk-hidden--visually\" id=\"905496a5-354a-4652-b8c2-dc3c45f34d92\" type=\"checkbox\" ><label class=\"sk-toggleable__label\" for=\"905496a5-354a-4652-b8c2-dc3c45f34d92\">FunctionTransformer</label><div class=\"sk-toggleable__content\"><pre>FunctionTransformer(func=<function <lambda> at 0x11df64310>)</pre></div></div></div></div></div></div></div></div></div></div><div class=\"sk-item\"><div class=\"sk-estimator sk-toggleable\"><input class=\"sk-toggleable__control sk-hidden--visually\" id=\"e2f2a917-16cf-43e8-a68b-2991d0ce562c\" type=\"checkbox\" ><label class=\"sk-toggleable__label\" for=\"e2f2a917-16cf-43e8-a68b-2991d0ce562c\">LogisticRegression</label><div class=\"sk-toggleable__content\"><pre>LogisticRegression(max_iter=1000)</pre></div></div></div></div></div></div></div>"
      ],
      "text/plain": [
       "Pipeline(steps=[('preprocessor',\n",
       "                 ColumnTransformer(transformers=[('num',\n",
       "                                                  Pipeline(steps=[('standardscaler',\n",
       "                                                                   StandardScaler())]),\n",
       "                                                  Index(['Administrative_Duration', 'Informational_Duration',\n",
       "       'ProductRelated_Duration', 'BounceRates', 'ExitRates', 'PageValues',\n",
       "       'SpecialDay'],\n",
       "      dtype='object')),\n",
       "                                                 ('cat',\n",
       "                                                  Pipeline(steps=[('onehot',\n",
       "                                                                   OneHotEncoder(handle_unknown='ignore'))]),\n",
       "                                                  Index(['Month', 'OperatingSystems', 'Browser', 'Region', 'TrafficType',\n",
       "       'VisitorType'],\n",
       "      dtype='object')),\n",
       "                                                 ('bool',\n",
       "                                                  Pipeline(steps=[('functiontransformer',\n",
       "                                                                   FunctionTransformer(func=<function <lambda> at 0x11df64310>))]),\n",
       "                                                  Index(['Weekend'], dtype='object'))])),\n",
       "                ('LogisticRegression', LogisticRegression(max_iter=1000))])"
      ]
     },
     "execution_count": 32,
     "metadata": {},
     "output_type": "execute_result"
    }
   ],
   "source": [
    "Logistic_Regression_model"
   ]
  },
  {
   "cell_type": "code",
   "execution_count": 33,
   "id": "243a51ce",
   "metadata": {},
   "outputs": [
    {
     "data": {
      "text/plain": [
       "0.4993909866017052"
      ]
     },
     "execution_count": 33,
     "metadata": {},
     "output_type": "execute_result"
    }
   ],
   "source": [
    "f1_score(y_test, y_prediction_LR)"
   ]
  },
  {
   "cell_type": "code",
   "execution_count": 34,
   "id": "d2624da5",
   "metadata": {},
   "outputs": [
    {
     "data": {
      "image/png": "[encoded data removed]",
      "text/plain": [
       "<Figure size 432x288 with 2 Axes>"
      ]
     },
     "metadata": {
      "needs_background": "light"
     },
     "output_type": "display_data"
    }
   ],
   "source": [
    "corrected_confusion_matrix(y_test, y_prediction_LR)"
   ]
  }
 ],
 "metadata": {
  "kernelspec": {
   "display_name": "Python 3",
   "language": "python",
   "name": "python3"
  },
  "language_info": {
   "codemirror_mode": {
    "name": "ipython",
    "version": 3
   },
   "file_extension": ".py",
   "mimetype": "text/x-python",
   "name": "python",
   "nbconvert_exporter": "python",
   "pygments_lexer": "ipython3",
   "version": "3.9.2"
  }
 },
 "nbformat": 4,
 "nbformat_minor": 5
}
